{
 "cells": [
  {
   "cell_type": "markdown",
   "id": "2f39c2fa",
   "metadata": {
    "pycharm": {
     "name": "#%% md\n"
    }
   },
   "source": [
    "# Opentrons Mass Balance Automation \n",
    "\n",
    "## Aniket Chitre"
   ]
  },
  {
   "cell_type": "markdown",
   "id": "9da6671f",
   "metadata": {
    "pycharm": {
     "name": "#%% md\n"
    }
   },
   "source": [
    "### 0. Import Packages"
   ]
  },
  {
   "cell_type": "code",
   "execution_count": null,
   "id": "f44fb10b",
   "metadata": {
    "pycharm": {
     "name": "#%%\n"
    }
   },
   "outputs": [],
   "source": [
    "%matplotlib notebook\n",
    "import matplotlib.pyplot as plt\n",
    "import seaborn as sns\n",
    "import pandas as pd\n",
    "import time\n",
    "import serial\n",
    "import csv"
   ]
  },
  {
   "cell_type": "markdown",
   "id": "910e04af",
   "metadata": {
    "pycharm": {
     "name": "#%% md\n"
    }
   },
   "source": [
    "### 1. Connect to Mass Balance\n",
    "\n",
    "Find the port number on Windows through Device Manager or on Mac through running this command (`ls /dev/tty.*`) on the Terminal"
   ]
  },
  {
   "cell_type": "code",
   "execution_count": null,
   "id": "1b2454b1",
   "metadata": {
    "pycharm": {
     "name": "#%%\n"
    }
   },
   "outputs": [],
   "source": [
    "#port = '/dev/tty.usbserial-14130'\n",
    "port = 'COM6'\n",
    "balance = serial.Serial(port, 9600, xonxoff=True) # check COM port and xonxoff (handshake) = True default for MT balance"
   ]
  },
  {
   "cell_type": "markdown",
   "id": "dda217b1",
   "metadata": {
    "pycharm": {
     "name": "#%% md\n"
    }
   },
   "source": [
    "### 2. Function to Read Mass from Balance"
   ]
  },
  {
   "cell_type": "code",
   "execution_count": null,
   "id": "6692b754",
   "metadata": {
    "pycharm": {
     "name": "#%%\n"
    }
   },
   "outputs": [],
   "source": [
    "def get_mass(port):\n",
    "    try:\n",
    "        balance.write('S\\r\\n'.encode('utf-8'))\n",
    "        time.sleep(1)\n",
    "        result  = balance.read_until('\\r\\n'.encode('utf-8'))\n",
    "        value = str(result[7:14].decode(\"utf-8\"))\n",
    "        balance.close()\n",
    "        if (value.strip() != '-------') and (value.strip() != ''):\n",
    "            return (True,float(value))\n",
    "        return (False,-1)\n",
    "    except:\n",
    "        return (False,-1)"
   ]
  },
  {
   "cell_type": "markdown",
   "id": "4a9656db",
   "metadata": {},
   "source": [
    "### 3. Real-time Data"
   ]
  },
  {
   "cell_type": "code",
   "execution_count": null,
   "id": "06a5b1b9",
   "metadata": {
    "pycharm": {
     "name": "#%%\n"
    },
    "scrolled": false
   },
   "outputs": [],
   "source": [
    "x = [] #store time here \n",
    "mass = [] #store mass here\n",
    "i = 0\n",
    "\n",
    "while True:\n",
    "    x.append(i*2)\n",
    "    \n",
    "    status, val = get_mass(port)\n",
    "    if status == True:\n",
    "        curr_val = val\n",
    "    else:\n",
    "        curr_val = mass[-1]\n",
    "        \n",
    "    print(curr_val)\n",
    "    mass.append(curr_val)\n",
    "    \n",
    "    time.sleep(1)\n",
    "    i += 1"
   ]
  },
  {
   "cell_type": "code",
   "execution_count": null,
   "id": "d91fbc1e",
   "metadata": {
    "pycharm": {
     "name": "#%%\n"
    },
    "scrolled": false
   },
   "outputs": [],
   "source": [
    "results = {'Time': x, 'Mass': mass}"
   ]
  },
  {
   "cell_type": "markdown",
   "id": "e51054ed",
   "metadata": {},
   "source": [
    "### 4. Plotting and Exporting Data"
   ]
  },
  {
   "cell_type": "code",
   "execution_count": null,
   "id": "b7f2fb0f",
   "metadata": {
    "pycharm": {
     "name": "#%%\n"
    }
   },
   "outputs": [],
   "source": [
    "mass_df = pd.DataFrame(results)\n",
    "mass_df"
   ]
  },
  {
   "cell_type": "code",
   "execution_count": null,
   "id": "9f09cd99",
   "metadata": {},
   "outputs": [],
   "source": [
    "mass_df = pd.read_csv('mass_data/MassProfile_131222_S19-24_run1.csv')"
   ]
  },
  {
   "cell_type": "code",
   "execution_count": null,
   "id": "78fb75a2",
   "metadata": {
    "pycharm": {
     "name": "#%%\n"
    },
    "scrolled": false
   },
   "outputs": [],
   "source": [
    "sns.lineplot(x='Time', y='Mass', data=mass_df);"
   ]
  },
  {
   "cell_type": "code",
   "execution_count": null,
   "id": "4023c188",
   "metadata": {
    "pycharm": {
     "name": "#%%\n"
    }
   },
   "outputs": [],
   "source": [
    "mass_df.to_csv('mass_data/MassProfile_141222_S31-36_run2.csv')"
   ]
  }
 ],
 "metadata": {
  "kernelspec": {
   "display_name": "Python 3 (ipykernel)",
   "language": "python",
   "name": "python3"
  },
  "language_info": {
   "codemirror_mode": {
    "name": "ipython",
    "version": 3
   },
   "file_extension": ".py",
   "mimetype": "text/x-python",
   "name": "python",
   "nbconvert_exporter": "python",
   "pygments_lexer": "ipython3",
   "version": "3.10.5"
  }
 },
 "nbformat": 4,
 "nbformat_minor": 5
}
