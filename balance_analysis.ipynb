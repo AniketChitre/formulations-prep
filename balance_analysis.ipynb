{
 "cells": [
  {
   "cell_type": "markdown",
   "metadata": {},
   "source": [
    "## Import Libraries and Data"
   ]
  },
  {
   "cell_type": "code",
   "execution_count": null,
   "metadata": {},
   "outputs": [],
   "source": [
    "import PipettingMassBalance as pmb\n",
    "import pandas as pd\n",
    "%matplotlib notebook\n",
    "\n",
    "speciesList = pmb.PipettingSpecies.readCSV('SpeciesDictionary.csv')\n",
    "instructions = pmb.PipettingInstructions.readCSV('DoE_csv/MasterDataset_OT_DoE_17-27-04-23.csv', firstRow=348, lastRow=354)\n",
    "targetVolume = 10\n",
    "sampleList = pmb.PipettingSample.createSamples(instructions,targetVol=targetVolume)\n",
    "maxVolume = 1\n",
    "for sample in sampleList:\n",
    "    sample.getTotalDensity(speciesDictionary=speciesList)\n",
    "    sample.getVolFracSeries(speciesDictionary=speciesList)\n",
    "steps = pmb.PipettingStep.createSteps(instructions=instructions,speciesDictionary=speciesList,sampleList=sampleList,maxVol=maxVolume)\n",
    "\n",
    "massProfile = pmb.MassProfile('mass_data/MassProfile_250423_S349-354.csv',t_baseline=25,derivNoise=0.005,secDerivNoise=0.001)\n",
    "#default t_baseline=25"
   ]
  },
  {
   "cell_type": "markdown",
   "metadata": {},
   "source": [
    "## Analyse Water Addition"
   ]
  },
  {
   "cell_type": "code",
   "execution_count": null,
   "metadata": {},
   "outputs": [],
   "source": [
    "(water_mass,t1)=massProfile.analyseWater(avg_window=10,bl_mult=5)\n",
    "water=pmb.PipettingSpecies.getSpecies(speciesList, 'water')\n",
    "water_volume_act=water.getVolume(water_mass)\n",
    "water_volume_set=0\n",
    "for sample in sampleList:\n",
    "    water_volume = sample.waterVol\n",
    "    water_volume_set = water_volume_set + water_volume\n",
    "    sample.actualMass = water_volume/water.density\n",
    "print(\"This equals a volume of \" + str(round(water_volume_act,3)) + \"m; expected was \"\\\n",
    "      + str(round(water_volume_set,3)) + \"mL; error is \" + str(round(abs((water_volume_set-water_volume_act)/water_volume_set)*100,3)) + \"%\")"
   ]
  },
  {
   "cell_type": "markdown",
   "metadata": {},
   "source": [
    "## Analyse Surfactants"
   ]
  },
  {
   "cell_type": "code",
   "execution_count": null,
   "metadata": {
    "scrolled": false
   },
   "outputs": [],
   "source": [
    "# default: bl_mult=5, mergeSens=10\n",
    "t2 = massProfile.analyseIngredients(avg_window=5, bl_mult=5, mergeSens=10, specType='surfactant', steps=steps,start_idx=t1,show=True)\n",
    "\n",
    "#t2 = massProfile.defineIngredientsManually(specType='surfactant',steps=steps,show=True,manualTimes=[560,600,700,800,900,1000,1100,1150,1250,1320,1400,1500,1580,1650,1730,1830,1920,2000,2080,2140])"
   ]
  },
  {
   "cell_type": "markdown",
   "metadata": {},
   "source": [
    "## Analyse Polyelectrolytes"
   ]
  },
  {
   "cell_type": "code",
   "execution_count": null,
   "metadata": {
    "scrolled": false
   },
   "outputs": [],
   "source": [
    "# default bl_mult = 5, default mergeSens = 5\n",
    "t3 = massProfile.analyseIngredients(avg_window=4, bl_mult=5, mergeSens=5, specType='polyelectrolyte',steps=steps,start_idx=t2,show=True)\n",
    "\n",
    "#t3 = massProfile.defineIngredientsManually(specType='polyelectrolyte',steps=steps,show=True,manualTimes=[2226,2280,2400,2500,2600,2700,2800])"
   ]
  },
  {
   "cell_type": "markdown",
   "metadata": {},
   "source": [
    "## Analyse Thickeners"
   ]
  },
  {
   "cell_type": "code",
   "execution_count": null,
   "metadata": {
    "scrolled": false
   },
   "outputs": [],
   "source": [
    "# default bl_mult = 1, default mergeSens = 1\n",
    "#t4 = massProfile.analyseIngredients(avg_window=1, bl_mult=1, mergeSens=1, specType='thickener',steps=steps,start_idx=t3,show=True)\n",
    "\n",
    "t4 = massProfile.defineIngredientsManually(specType='thickener',steps=steps,show=True,manualTimes=[2264,2272,2284,2306,2318,2328,2346])"
   ]
  },
  {
   "cell_type": "markdown",
   "metadata": {},
   "source": [
    "## Consolidate results and create output"
   ]
  },
  {
   "cell_type": "code",
   "execution_count": null,
   "metadata": {},
   "outputs": [],
   "source": [
    "for step in steps:\n",
    "    step.addToSample()\n",
    "actualMassFractions = pd.DataFrame(dtype='float64').reindex_like(instructions)\n",
    "actualMassFractions[:]=0\n",
    "for i in range(len(sampleList)):\n",
    "    actualMassFractions['ID'].iloc[i] = sampleList[i].sampleId\n",
    "    for entry in sampleList[i].addedMassSeries.iteritems():\n",
    "        actualMassFractions[entry[0]].iloc[i] = entry[1]/sampleList[i].actualMass*100\n",
    "actualMassFractions.to_csv('mass_data/FreshlyAnalysed_100523_S367-S372.csv', index=False)\n",
    "actualMassFractions"
   ]
  }
 ],
 "metadata": {
  "kernelspec": {
   "display_name": "Python 3 (ipykernel)",
   "language": "python",
   "name": "python3"
  },
  "language_info": {
   "codemirror_mode": {
    "name": "ipython",
    "version": 3
   },
   "file_extension": ".py",
   "mimetype": "text/x-python",
   "name": "python",
   "nbconvert_exporter": "python",
   "pygments_lexer": "ipython3",
   "version": "3.10.4"
  }
 },
 "nbformat": 4,
 "nbformat_minor": 4
}
